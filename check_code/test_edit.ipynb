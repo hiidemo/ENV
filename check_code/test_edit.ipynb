{
 "cells": [
  {
   "cell_type": "code",
   "execution_count": 1,
   "metadata": {},
   "outputs": [],
   "source": [
    "from setup import make\n",
    "game_name = 'Century'\n",
    "env = make(game_name)"
   ]
  },
  {
   "cell_type": "code",
   "execution_count": 3,
   "metadata": {},
   "outputs": [
    {
     "data": {
      "text/plain": [
       "(0, [0])"
      ]
     },
     "execution_count": 3,
     "metadata": {},
     "output_type": "execute_result"
    }
   ],
   "source": [
    "env.numba_main_2(env.bot_lv0, 10, [0], 1)"
   ]
  },
  {
   "cell_type": "code",
   "execution_count": 4,
   "metadata": {},
   "outputs": [
    {
     "name": "stdout",
     "output_type": "stream",
     "text": [
      "Catan 0\n",
      "CatanNoExchange 1\n",
      "Century 1\n",
      "Durak 0\n",
      "Exploding_Kitten 3\n",
      "GoFish 3\n",
      "Imploding_Kitten 1\n",
      "MachiKoro 0\n",
      "Poker 0\n",
      "Sheriff 0\n",
      "Splendor 0\n",
      "Splendor_v2 0\n",
      "Splendor_v3 1\n",
      "StoneAge 0\n",
      "SushiGo 0\n",
      "TicketToRide 0\n",
      "TLMN 1\n"
     ]
    }
   ],
   "source": [
    "game = ['Catan', 'CatanNoExchange', 'Century', 'Durak', 'Exploding_Kitten', 'GoFish', 'Imploding_Kitten', 'MachiKoro', 'Poker', 'Sheriff', 'Splendor', 'Splendor_v2', 'Splendor_v3', 'StoneAge', 'SushiGo', 'TicketToRide', 'TLMN']\n",
    "for name in game:\n",
    "    env = make(name)\n",
    "    win, per = env.numba_main_2(env.bot_lv0, 10, [0], 1)\n",
    "    print(name, win)"
   ]
  }
 ],
 "metadata": {
  "kernelspec": {
   "display_name": "Python 3",
   "language": "python",
   "name": "python3"
  },
  "language_info": {
   "codemirror_mode": {
    "name": "ipython",
    "version": 3
   },
   "file_extension": ".py",
   "mimetype": "text/x-python",
   "name": "python",
   "nbconvert_exporter": "python",
   "pygments_lexer": "ipython3",
   "version": "3.10.11"
  },
  "orig_nbformat": 4
 },
 "nbformat": 4,
 "nbformat_minor": 2
}
