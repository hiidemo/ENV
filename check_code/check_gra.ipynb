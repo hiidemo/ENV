{
 "cells": [
  {
   "cell_type": "code",
   "execution_count": 1,
   "metadata": {},
   "outputs": [],
   "source": [
    "from setup import make\n",
    "game_name = 'Century'\n",
    "env = make(game_name)"
   ]
  },
  {
   "cell_type": "code",
   "execution_count": 2,
   "metadata": {},
   "outputs": [
    {
     "ename": "FileNotFoundError",
     "evalue": "[Errno 2] No such file or directory: 'c:\\\\Users\\\\admin\\\\ENV\\\\env_.py'",
     "output_type": "error",
     "traceback": [
      "\u001b[1;31m---------------------------------------------------------------------------\u001b[0m",
      "\u001b[1;31mFileNotFoundError\u001b[0m                         Traceback (most recent call last)",
      "Cell \u001b[1;32mIn[2], line 1\u001b[0m\n\u001b[1;32m----> 1\u001b[0m env\u001b[39m.\u001b[39;49mnumba_main_2(env\u001b[39m.\u001b[39;49mbot_lv0, \u001b[39m1\u001b[39;49m, [\u001b[39m0\u001b[39;49m], \u001b[39m1\u001b[39;49m)\n",
      "File \u001b[1;32mc:\\Users\\admin\\ENV\\Base\\Century\\env.py:887\u001b[0m, in \u001b[0;36mnumba_main_2\u001b[1;34m(p0, num_game, per_player, level, *args)\u001b[0m\n\u001b[0;32m    884\u001b[0m \u001b[39mexcept\u001b[39;00m:\n\u001b[0;32m    885\u001b[0m     check_njit \u001b[39m=\u001b[39m \u001b[39mFalse\u001b[39;00m\n\u001b[1;32m--> 887\u001b[0m load_agent(level, \u001b[39m*\u001b[39;49margs)\n\u001b[0;32m    889\u001b[0m \u001b[39mif\u001b[39;00m check_njit:\n\u001b[0;32m    890\u001b[0m     \u001b[39mreturn\u001b[39;00m n_games_numba(\n\u001b[0;32m    891\u001b[0m         p0,\n\u001b[0;32m    892\u001b[0m         num_game,\n\u001b[1;32m   (...)\u001b[0m\n\u001b[0;32m    902\u001b[0m         _list_bot_level_[\u001b[39m3\u001b[39m],\n\u001b[0;32m    903\u001b[0m     )\n",
      "File \u001b[1;32mc:\\Users\\admin\\ENV\\Base\\Century\\env.py:870\u001b[0m, in \u001b[0;36mload_agent\u001b[1;34m(level, *args)\u001b[0m\n\u001b[0;32m    865\u001b[0m \u001b[39melse\u001b[39;00m:\n\u001b[0;32m    866\u001b[0m     data_agent_level \u001b[39m=\u001b[39m np\u001b[39m.\u001b[39mload(\n\u001b[0;32m    867\u001b[0m         \u001b[39mf\u001b[39m\u001b[39m\"\u001b[39m\u001b[39m{\u001b[39;00mSHORT_PATH\u001b[39m}\u001b[39;00m\u001b[39mAgent/\u001b[39m\u001b[39m{\u001b[39;00mlst_agent_level[i]\u001b[39m}\u001b[39;00m\u001b[39m/Data/\u001b[39m\u001b[39m{\u001b[39;00menv_name\u001b[39m}\u001b[39;00m\u001b[39m_\u001b[39m\u001b[39m{\u001b[39;00mlevel\u001b[39m}\u001b[39;00m\u001b[39m/Train.npy\u001b[39m\u001b[39m\"\u001b[39m,\n\u001b[0;32m    868\u001b[0m         allow_pickle\u001b[39m=\u001b[39m\u001b[39mTrue\u001b[39;00m,\n\u001b[0;32m    869\u001b[0m     )\n\u001b[1;32m--> 870\u001b[0m     module_agent \u001b[39m=\u001b[39m load_module_player(lst_agent_level[i])\n\u001b[0;32m    871\u001b[0m     _list_per_level_\u001b[39m.\u001b[39mappend(\n\u001b[0;32m    872\u001b[0m         module_agent\u001b[39m.\u001b[39mconvert_to_test(data_agent_level)\n\u001b[0;32m    873\u001b[0m     )\n\u001b[0;32m    874\u001b[0m _list_bot_level_\u001b[39m.\u001b[39mappend(module_agent\u001b[39m.\u001b[39mTest)\n",
      "File \u001b[1;32mc:\\Users\\admin\\ENV\\Base\\Century\\env.py:811\u001b[0m, in \u001b[0;36mload_module_player\u001b[1;34m(player)\u001b[0m\n\u001b[0;32m    809\u001b[0m module \u001b[39m=\u001b[39m importlib\u001b[39m.\u001b[39mutil\u001b[39m.\u001b[39mmodule_from_spec(spec)\n\u001b[0;32m    810\u001b[0m sys\u001b[39m.\u001b[39mmodules[spec\u001b[39m.\u001b[39mname] \u001b[39m=\u001b[39m module\n\u001b[1;32m--> 811\u001b[0m spec\u001b[39m.\u001b[39;49mloader\u001b[39m.\u001b[39;49mexec_module(module)\n\u001b[0;32m    812\u001b[0m \u001b[39mreturn\u001b[39;00m module\n",
      "File \u001b[1;32m<frozen importlib._bootstrap_external>:883\u001b[0m, in \u001b[0;36mexec_module\u001b[1;34m(self, module)\u001b[0m\n",
      "File \u001b[1;32m<frozen importlib._bootstrap>:241\u001b[0m, in \u001b[0;36m_call_with_frames_removed\u001b[1;34m(f, *args, **kwds)\u001b[0m\n",
      "File \u001b[1;32mc:\\Users\\admin\\ENV\\Agent/MultiDimensionAlgorithm/Agent_player.py:9\u001b[0m\n\u001b[0;32m      6\u001b[0m \u001b[39mfrom\u001b[39;00m \u001b[39msetup\u001b[39;00m \u001b[39mimport\u001b[39;00m setup_game\n\u001b[0;32m      8\u001b[0m game_name \u001b[39m=\u001b[39m sys\u001b[39m.\u001b[39margv[\u001b[39m1\u001b[39m]\n\u001b[1;32m----> 9\u001b[0m env \u001b[39m=\u001b[39m setup_game(game_name)\n\u001b[0;32m     12\u001b[0m \u001b[39mfrom\u001b[39;00m \u001b[39mnumba\u001b[39;00m\u001b[39m.\u001b[39;00m\u001b[39mtyped\u001b[39;00m \u001b[39mimport\u001b[39;00m List\n\u001b[0;32m     15\u001b[0m \u001b[39m# Agent function\u001b[39;00m\n",
      "File \u001b[1;32mc:\\Users\\admin\\ENV\\setup.py:52\u001b[0m, in \u001b[0;36msetup_game\u001b[1;34m(game_name)\u001b[0m\n\u001b[0;32m     50\u001b[0m module \u001b[39m=\u001b[39m importlib\u001b[39m.\u001b[39mutil\u001b[39m.\u001b[39mmodule_from_spec(spec)\n\u001b[0;32m     51\u001b[0m sys\u001b[39m.\u001b[39mmodules[spec\u001b[39m.\u001b[39mname] \u001b[39m=\u001b[39m module\n\u001b[1;32m---> 52\u001b[0m spec\u001b[39m.\u001b[39;49mloader\u001b[39m.\u001b[39;49mexec_module(module)\n\u001b[0;32m     53\u001b[0m \u001b[39mreturn\u001b[39;00m module\n",
      "File \u001b[1;32m<frozen importlib._bootstrap_external>:879\u001b[0m, in \u001b[0;36mexec_module\u001b[1;34m(self, module)\u001b[0m\n",
      "File \u001b[1;32m<frozen importlib._bootstrap_external>:1016\u001b[0m, in \u001b[0;36mget_code\u001b[1;34m(self, fullname)\u001b[0m\n",
      "File \u001b[1;32m<frozen importlib._bootstrap_external>:1073\u001b[0m, in \u001b[0;36mget_data\u001b[1;34m(self, path)\u001b[0m\n",
      "\u001b[1;31mFileNotFoundError\u001b[0m: [Errno 2] No such file or directory: 'c:\\\\Users\\\\admin\\\\ENV\\\\env_.py'"
     ]
    }
   ],
   "source": [
    "env.numba_main_2(env.bot_lv0, 1, [0], 1)"
   ]
  },
  {
   "cell_type": "code",
   "execution_count": 5,
   "metadata": {},
   "outputs": [
    {
     "data": {
      "application/vnd.jupyter.widget-view+json": {
       "model_id": "b0e40d33796041ad862dad1736fd00e8",
       "version_major": 2,
       "version_minor": 0
      },
      "text/plain": [
       "VBox(children=(Output(), HBox(children=(Dropdown(disabled=True, layout=Layout(width='20%'), options=('Take an …"
      ]
     },
     "metadata": {},
     "output_type": "display_data"
    }
   ],
   "source": [
    "env.render(Agent = env.bot_lv0, per_data=[0], level=0, max_temp_frame=100)"
   ]
  }
 ],
 "metadata": {
  "kernelspec": {
   "display_name": "Python 3",
   "language": "python",
   "name": "python3"
  },
  "language_info": {
   "codemirror_mode": {
    "name": "ipython",
    "version": 3
   },
   "file_extension": ".py",
   "mimetype": "text/x-python",
   "name": "python",
   "nbconvert_exporter": "python",
   "pygments_lexer": "ipython3",
   "version": "3.10.11"
  },
  "orig_nbformat": 4
 },
 "nbformat": 4,
 "nbformat_minor": 2
}
