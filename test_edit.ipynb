{
 "cells": [
  {
   "cell_type": "code",
   "execution_count": 2,
   "metadata": {},
   "outputs": [],
   "source": [
    "from setup import make\n",
    "game_name = 'Catan'\n",
    "env = make(game_name)"
   ]
  },
  {
   "cell_type": "code",
   "execution_count": 4,
   "metadata": {},
   "outputs": [
    {
     "data": {
      "text/plain": [
       "(False,\n",
       " ['numba_main_2, Số trận thắng khi kết thúc khác với sô trận check. Thắng khi dùng getReward: 2473, win: 2472'])"
      ]
     },
     "execution_count": 4,
     "metadata": {},
     "output_type": "execute_result"
    }
   ],
   "source": [
    "from tests.CheckEnv import check_env\n",
    "check_env(env)"
   ]
  },
  {
   "cell_type": "code",
   "execution_count": 3,
   "metadata": {},
   "outputs": [
    {
     "data": {
      "application/vnd.jupyter.widget-view+json": {
       "model_id": "97623d8319814ea5a793f6d6a5f424b3",
       "version_major": 2,
       "version_minor": 0
      },
      "text/plain": [
       "VBox(children=(Output(), HBox(children=(Dropdown(disabled=True, layout=Layout(width='20%'), options=('Take an …"
      ]
     },
     "metadata": {},
     "output_type": "display_data"
    }
   ],
   "source": [
    "env.render(Agent = env.bot_lv0, per_data=[0], level=1, max_temp_frame=100)"
   ]
  },
  {
   "cell_type": "code",
   "execution_count": 2,
   "metadata": {},
   "outputs": [
    {
     "data": {
      "text/plain": [
       "(0, [0])"
      ]
     },
     "execution_count": 2,
     "metadata": {},
     "output_type": "execute_result"
    }
   ],
   "source": [
    "env.numba_main_2(env.bot_lv0, 10, [0], 1)"
   ]
  },
  {
   "cell_type": "code",
   "execution_count": 3,
   "metadata": {},
   "outputs": [
    {
     "name": "stdout",
     "output_type": "stream",
     "text": [
      "Catan 0\n",
      "CatanNoExchange 0\n",
      "Century 0\n",
      "Durak 0\n",
      "Exploding_Kitten 3\n",
      "GoFish 2\n",
      "Imploding_Kitten 2\n",
      "MachiKoro 1\n",
      "Poker 1\n",
      "Sheriff 0\n",
      "Splendor 0\n",
      "Splendor_v2 0\n",
      "Splendor_v3 1\n",
      "StoneAge 0\n",
      "SushiGo 0\n",
      "TicketToRide 0\n",
      "TLMN 0\n"
     ]
    }
   ],
   "source": [
    "game = ['Catan', 'CatanNoExchange', 'Century', 'Durak', 'Exploding_Kitten', 'GoFish', 'Imploding_Kitten', 'MachiKoro', 'Poker', 'Sheriff', 'Splendor', 'Splendor_v2', 'Splendor_v3', 'StoneAge', 'SushiGo', 'TicketToRide', 'TLMN']\n",
    "for name in game:\n",
    "    env = make(name)\n",
    "    win, per = env.numba_main_2(env.bot_lv0, 10, [0], 1)\n",
    "    print(name, win)"
   ]
  }
 ],
 "metadata": {
  "kernelspec": {
   "display_name": "Python 3",
   "language": "python",
   "name": "python3"
  },
  "language_info": {
   "codemirror_mode": {
    "name": "ipython",
    "version": 3
   },
   "file_extension": ".py",
   "mimetype": "text/x-python",
   "name": "python",
   "nbconvert_exporter": "python",
   "pygments_lexer": "ipython3",
   "version": "3.10.11"
  },
  "orig_nbformat": 4
 },
 "nbformat": 4,
 "nbformat_minor": 2
}
